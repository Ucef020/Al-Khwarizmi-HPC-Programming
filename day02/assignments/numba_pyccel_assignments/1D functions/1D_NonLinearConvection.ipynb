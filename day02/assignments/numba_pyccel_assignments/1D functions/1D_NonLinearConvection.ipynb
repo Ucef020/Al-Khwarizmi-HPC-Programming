{
 "cells": [
  {
   "cell_type": "markdown",
   "metadata": {},
   "source": [
    "## Imports"
   ]
  },
  {
   "cell_type": "code",
   "execution_count": 1,
   "metadata": {},
   "outputs": [],
   "source": [
    "import numpy as np\n",
    "import matplotlib.pyplot as plt\n",
    "import time\n",
    "from numba import njit\n",
    "from pyccel.epyccel import epyccel\n",
    "from pyccel.decorators import types"
   ]
  },
  {
   "cell_type": "markdown",
   "metadata": {},
   "source": [
    "## Pure python function"
   ]
  },
  {
   "cell_type": "code",
   "execution_count": 10,
   "metadata": {},
   "outputs": [],
   "source": [
    "def solve_1d_nonlinearconv_pure(u, un, nt, nx, dt, dx):\n",
    "    for n in range(nt):\n",
    "      un[:] = u[:] \n",
    "      for i in range(1, nx):\n",
    "        u[i] = un[i] - un[i] * dt / dx * (un[i] - un[i-1]) # déclaration de notre fonction par descritisation\n",
    "    \n",
    "    return 0"
   ]
  },
  {
   "cell_type": "markdown",
   "metadata": {},
   "source": [
    "## Numba accelerator"
   ]
  },
  {
   "cell_type": "code",
   "execution_count": 11,
   "metadata": {},
   "outputs": [],
   "source": [
    "@njit(fastmath=True) #activation du fastmath\n",
    "def solve_1d_nonlinearconv_numba(u, un, nt, nx, dt, dx):\n",
    "    for n in range(nt):\n",
    "      un[:] = u[:]\n",
    "      for i in range(1, nx):\n",
    "        u[i] = un[i] - un[i] * dt / dx * (un[i] - un[i-1])\n",
    "    \n",
    "    return 0"
   ]
  },
  {
   "cell_type": "markdown",
   "metadata": {},
   "source": [
    "## Pyccel accelerator"
   ]
  },
  {
   "cell_type": "code",
   "execution_count": 12,
   "metadata": {},
   "outputs": [],
   "source": [
    "def solve_1d_nonlinearconv_pyccel(u:'float[:]', un:'float[:]', nt:'int', nx:'int', dt:'float', dx:'float'): # declaration des types des variables\n",
    "\n",
    "    for n in range(nt):\n",
    "      for i in range(nx):\n",
    "        un[i] = u[i]\n",
    "      for i in range(1, nx):\n",
    "        u[i] = un[i] - un[i] * dt / dx * (un[i] - un[i-1])\n",
    "    return 0"
   ]
  },
  {
   "cell_type": "markdown",
   "metadata": {},
   "source": [
    "## Inputs"
   ]
  },
  {
   "cell_type": "code",
   "execution_count": 14,
   "metadata": {},
   "outputs": [
    {
     "data": {
      "text/plain": [
       "Text(0.5, 1.0, '1D Linear Convection')"
      ]
     },
     "execution_count": 14,
     "metadata": {},
     "output_type": "execute_result"
    },
    {
     "data": {
      "image/png": "[encoded data removed]",
      "text/plain": [
       "<Figure size 432x288 with 1 Axes>"
      ]
     },
     "metadata": {
      "needs_background": "light"
     },
     "output_type": "display_data"
    }
   ],
   "source": [
    "nx = 108  # try changing this number from 41 to 81 and Run All ... what happens?\n",
    "dx = 2 / (nx-1)\n",
    "nt = 400    #nt is the number of timesteps we want to calculate\n",
    "dt = 0.001\n",
    "grid = np.linspace(0,2,nx) # creating the space grid    \n",
    "\n",
    "u0 = np.ones(nx)      #numpy function ones()\n",
    "u0[int(.5 / dx):int(1 / dx + 1)] = 2  #setting u = 2 between 0.5 and 1 as per our I.C.s\n",
    "plt.plot(grid,u0)\n",
    "u = u0.copy()\n",
    "un = np.ones(nx)\n",
    "\n",
    "solve_1d_nonlinearconv_pure(u, un, nt, nx, dt, dx)\n",
    "#Plotting data\n",
    "plt.plot(grid,u);\n",
    "plt.ylim([1.,2.2])\n",
    "plt.xlabel('X')\n",
    "plt.ylabel('Velocity')    \n",
    "plt.title('1D Linear Convection')"
   ]
  },
  {
   "cell_type": "markdown",
   "metadata": {},
   "source": [
    "Remarque : \n",
    "le changement de la forme de la simuation est du essentiellement aux erreurs commise lors de la descritisation et de la modelisation de l'equation."
   ]
  },
  {
   "cell_type": "markdown",
   "metadata": {},
   "source": [
    "## Call Funtions"
   ]
  },
  {
   "cell_type": "markdown",
   "metadata": {},
   "source": [
    "### Pure function"
   ]
  },
  {
   "cell_type": "code",
   "execution_count": 8,
   "metadata": {},
   "outputs": [
    {
     "name": "stdout",
     "output_type": "stream",
     "text": [
      "132 ms ± 1.33 ms per loop (mean ± std. dev. of 7 runs, 10 loops each)\n"
     ]
    }
   ],
   "source": [
    "%timeit solve_1d_nonlinearconv_pure(u, un, nt, nx, dt, dx)"
   ]
  },
  {
   "cell_type": "markdown",
   "metadata": {},
   "source": [
    "### Function with numba accelerator"
   ]
  },
  {
   "cell_type": "code",
   "execution_count": 13,
   "metadata": {},
   "outputs": [
    {
     "name": "stdout",
     "output_type": "stream",
     "text": [
      "114 µs ± 8.43 µs per loop (mean ± std. dev. of 7 runs, 1 loop each)\n"
     ]
    }
   ],
   "source": [
    "%timeit solve_1d_nonlinearconv_numba(u, un, nt, nx, dt, dx)"
   ]
  },
  {
   "cell_type": "markdown",
   "metadata": {},
   "source": [
    "### Function with pyccel accelerator"
   ]
  },
  {
   "cell_type": "code",
   "execution_count": 14,
   "metadata": {},
   "outputs": [],
   "source": [
    "solve_1d_nonlinearconv_f90 = epyccel(solve_1d_nonlinearconv_pyccel)"
   ]
  },
  {
   "cell_type": "code",
   "execution_count": 15,
   "metadata": {},
   "outputs": [
    {
     "name": "stdout",
     "output_type": "stream",
     "text": [
      "136 µs ± 831 ns per loop (mean ± std. dev. of 7 runs, 10000 loops each)\n"
     ]
    }
   ],
   "source": [
    "%timeit solve_1d_nonlinearconv_f90(u, un, nt, nx, dt, dx)"
   ]
  },
  {
   "cell_type": "markdown",
   "metadata": {},
   "source": [
    "    Nous remarquons que grace à numba nous avons pu optimisé le temps d'execution de 132 ms par loop à environ 114 µs ce qui est enorme et tres important si on fait une reflexion par extrapolation sur des equations plus compliqué qui necessite plus de temps pour la compilation.\n",
    "    A remarquer que en utilisant Pyccel (une fierté nationale marocaine puisque elle est en pleine developpement par nos ingenieurs et nos profs à l'UM6P) nous pouvons optimisé le temps d'excution qui va etre minimisé à 136µs per loop, toutefois numba est plus optimale.\n",
    "   "
   ]
  },
  {
   "cell_type": "markdown",
   "metadata": {},
   "source": [
    "![](Pyccel.png)"
   ]
  },
  {
   "cell_type": "code",
   "execution_count": null,
   "metadata": {},
   "outputs": [],
   "source": []
  }
 ],
 "metadata": {
  "kernelspec": {
   "display_name": "Python 3 (ipykernel)",
   "language": "python",
   "name": "python3"
  },
  "language_info": {
   "codemirror_mode": {
    "name": "ipython",
    "version": 3
   },
   "file_extension": ".py",
   "mimetype": "text/x-python",
   "name": "python",
   "nbconvert_exporter": "python",
   "pygments_lexer": "ipython3",
   "version": "3.9.7"
  }
 },
 "nbformat": 4,
 "nbformat_minor": 2
}
