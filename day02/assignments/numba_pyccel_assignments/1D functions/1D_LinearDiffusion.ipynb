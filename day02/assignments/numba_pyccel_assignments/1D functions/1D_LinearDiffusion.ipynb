{
 "cells": [
  {
   "cell_type": "markdown",
   "metadata": {},
   "source": [
    "Generalite : \n",
    "    La diffusion couvre une gamme de phénomènes qui ont tous comme particularité d'être non réversibles dans le temps. Nous parlerons surtout ici de la diffusion d'un fluide\n",
    "dans un autre, résultant, en général, en un mélange dont l'homogénéité va croissant avec le phénomène de diffusion, comme le lait dans le café ou le mélange d’azote et d’oxygène de l’atmosphère qui est uniforme et est le résultat d’une diffusion. De façon générale, le résultat est une uniformisation spatiale des différentes concentrations.\n",
    "    La diffusion peut être causée par une pression appliquée de l’extérieur sur le fluide. Nous attendons alors un terme de source pour décrire cette pression dans l'équation différentielle qui décrit le phénomène. Nous savons aussi qu'une substance en haute concentration locale dans une autre va souvent tendre, si les fluides sont miscibles, à diffuser en tendant vers un mélange homogène. Il peut y avoir ou non une source de nouvelle substance en une région de l'espace, auquel cas un terme de source doit décrire cette situation. La forme exacte des termes de source varie énormément d'une situation à l'autre. "
   ]
  },
  {
   "cell_type": "markdown",
   "metadata": {},
   "source": [
    "## Imports"
   ]
  },
  {
   "cell_type": "code",
   "execution_count": 17,
   "metadata": {},
   "outputs": [],
   "source": [
    "import numpy as np\n",
    "import matplotlib.pyplot as plt\n",
    "import time\n",
    "\n",
    "from numba import njit\n",
    "from pyccel.epyccel import epyccel\n",
    "from pyccel.decorators import types"
   ]
  },
  {
   "cell_type": "markdown",
   "metadata": {},
   "source": [
    "## Pure python function"
   ]
  },
  {
   "cell_type": "code",
   "execution_count": 10,
   "metadata": {},
   "outputs": [],
   "source": [
    "def solve_1d_diff_pure(u, un, nt, nx, dt, dx, nu):\n",
    "    for n in range(nt):\n",
    "      for i in range(nx):\n",
    "        un[i] = u[i]\n",
    "      for i in range(1, nx-1):\n",
    "        u[i] = un[i] + nu * dt / dx**2 * (un[i+1] - 2 * un[i] + un[i-1]) #la fonction descretisée   \n",
    "    \n",
    "    return 0"
   ]
  },
  {
   "cell_type": "markdown",
   "metadata": {},
   "source": [
    "## Numba accelerator"
   ]
  },
  {
   "cell_type": "code",
   "execution_count": 3,
   "metadata": {},
   "outputs": [],
   "source": [
    "@njit(fastmath=True) #activation de numba fast math\n",
    "def solve_1d_diff_numba(u, un, nt, nx, dt, dx, nu):\n",
    "    for n in range(nt):\n",
    "        for i in range(nx):\n",
    "            un[i] = u[i]\n",
    "        for i in range(1, nx-1):\n",
    "            u[i] = un[i] + nu * dt / dx**2 * (un[i+1] - 2 * un[i] + un[i-1])    \n",
    "    return 0"
   ]
  },
  {
   "cell_type": "markdown",
   "metadata": {},
   "source": [
    "## Pyccel accelerator"
   ]
  },
  {
   "cell_type": "code",
   "execution_count": 11,
   "metadata": {},
   "outputs": [],
   "source": [
    "def solve_1d_diff_pyccel(u : 'float[:]', un : 'float[:]', nt : 'int', nx : 'int', dt : 'float', dx : 'float', nu : 'float'): #nous avons declarer les variable comme veux les regles de l'art pour l'execution de pyccel accelarator\n",
    "    \n",
    "    for n in range(nt):\n",
    "        for i in range(nx):\n",
    "            un[i] = u[i]\n",
    "        for i in range(1, nx-1):\n",
    "            u[i] = un[i] + nu * dt / dx**2 * (un[i+1] - 2 * un[i] + un[i-1])    \n",
    "    return 0"
   ]
  },
  {
   "cell_type": "markdown",
   "metadata": {},
   "source": [
    "## Inputs"
   ]
  },
  {
   "cell_type": "code",
   "execution_count": 12,
   "metadata": {},
   "outputs": [
    {
     "data": {
      "text/plain": [
       "Text(0.5, 1.0, '1D Diffusion')"
      ]
     },
     "execution_count": 12,
     "metadata": {},
     "output_type": "execute_result"
    },
    {
     "data": {
      "image/png": "[encoded data removed]",
      "text/plain": [
       "<Figure size 432x288 with 1 Axes>"
      ]
     },
     "metadata": {
      "needs_background": "light"
     },
     "output_type": "display_data"
    }
   ],
   "source": [
    "nx = 501\n",
    "dx = 2 / (nx - 1)\n",
    "nt = 1500    #the number of timesteps we want to calculate\n",
    "nu = 0.3   #the value of viscosity\n",
    "CFL = .5 #sigma is a parameter, we'll learn more about it later\n",
    "dt = CFL * dx**2 / nu #dt is defined using sigma ... more later!\n",
    "grid = np.linspace(0,2,nx) # creating the space grid\n",
    "\n",
    "u0 = np.ones(nx)      #a numpy array with nx elements all equal to 1.\n",
    "u0[int(.5 / dx):int(1 / dx + 1)] = 2  #setting u = 2 between 0.5 and 1 as per our I.C.s\n",
    "plt.plot(grid,u0);\n",
    "u = u0.copy()\n",
    "un = np.ones(nx) #our placeholder array, un, to advance the solution in time\n",
    "\n",
    "solve_1d_diff_pure(u, un, nt, nx, dt, dx, nu)\n",
    "#Plotting data\n",
    "plt.plot(grid,u);\n",
    "plt.ylim([1.,2.2])\n",
    "plt.xlabel('X')\n",
    "plt.ylabel('Velocity')    \n",
    "plt.title('1D Diffusion') "
   ]
  },
  {
   "cell_type": "code",
   "execution_count": 13,
   "metadata": {},
   "outputs": [
    {
     "data": {
      "text/plain": [
       "Text(0.5, 1.0, '1D Diffusion')"
      ]
     },
     "execution_count": 13,
     "metadata": {},
     "output_type": "execute_result"
    },
    {
     "data": {
      "image/png": "[encoded data removed]",
      "text/plain": [
       "<Figure size 432x288 with 1 Axes>"
      ]
     },
     "metadata": {
      "needs_background": "light"
     },
     "output_type": "display_data"
    }
   ],
   "source": [
    "nx = 100\n",
    "dx = 2 / (nx - 1)\n",
    "nt = 1500    #the number of timesteps we want to calculate\n",
    "nu = 0.3   #the value of viscosity\n",
    "CFL = .1 #sigma is a parameter, we'll learn more about it later\n",
    "dt = CFL * dx**2 / nu #dt is defined using sigma ... more later!\n",
    "grid = np.linspace(0,2,nx) # creating the space grid\n",
    "\n",
    "u0 = np.ones(nx)      #a numpy array with nx elements all equal to 1.\n",
    "u0[int(.5 / dx):int(1 / dx + 1)] = 2  #setting u = 2 between 0.5 and 1 as per our I.C.s\n",
    "plt.plot(grid,u0);\n",
    "u = u0.copy()\n",
    "un = np.ones(nx) #our placeholder array, un, to advance the solution in time\n",
    "\n",
    "solve_1d_diff_pure(u, un, nt, nx, dt, dx, nu)\n",
    "#Plotting data\n",
    "plt.plot(grid,u);\n",
    "plt.ylim([1.,2.2])\n",
    "plt.xlabel('X')\n",
    "plt.ylabel('Velocity')    \n",
    "plt.title('1D Diffusion') "
   ]
  },
  {
   "cell_type": "markdown",
   "metadata": {},
   "source": [
    "## Call Funtions"
   ]
  },
  {
   "cell_type": "markdown",
   "metadata": {},
   "source": [
    "### Pure function"
   ]
  },
  {
   "cell_type": "code",
   "execution_count": 14,
   "metadata": {},
   "outputs": [
    {
     "name": "stdout",
     "output_type": "stream",
     "text": [
      "443 ms ± 8.67 ms per loop (mean ± std. dev. of 7 runs, 1 loop each)\n"
     ]
    }
   ],
   "source": [
    "%timeit solve_1d_diff_pure(u, un, nt, nx, dt, dx, nu)"
   ]
  },
  {
   "cell_type": "markdown",
   "metadata": {},
   "source": [
    "### Function with numba accelerator"
   ]
  },
  {
   "cell_type": "code",
   "execution_count": 15,
   "metadata": {},
   "outputs": [
    {
     "name": "stdout",
     "output_type": "stream",
     "text": [
      "391 µs ± 18.4 µs per loop (mean ± std. dev. of 7 runs, 1000 loops each)\n"
     ]
    }
   ],
   "source": [
    "%timeit solve_1d_diff_numba(u, un, nt, nx, dt, dx, nu)"
   ]
  },
  {
   "cell_type": "markdown",
   "metadata": {},
   "source": [
    "### Function with pyccel accelerator"
   ]
  },
  {
   "cell_type": "code",
   "execution_count": 18,
   "metadata": {
    "scrolled": true
   },
   "outputs": [],
   "source": [
    "solve_1d_diff_f90 = epyccel(solve_1d_diff_pyccel)"
   ]
  },
  {
   "cell_type": "code",
   "execution_count": 19,
   "metadata": {},
   "outputs": [
    {
     "name": "stdout",
     "output_type": "stream",
     "text": [
      "376 µs ± 5.14 µs per loop (mean ± std. dev. of 7 runs, 1000 loops each)\n"
     ]
    }
   ],
   "source": [
    "%timeit solve_1d_diff_f90(u, un, nt, nx, dt, dx, nu)"
   ]
  },
  {
   "cell_type": "markdown",
   "metadata": {},
   "source": [
    "    Ce qui est constaté pour l'equation de convection est aussi applicable à la fonction de diffusion, nous pouvons constater la difference de temps d'execution qui a ete optimisé en passant par les fonction pure de python(443 ms ± 114 ms per loop) à Numba accelarator(391 µs ± 35.4 µs per loop) et aussi pyccel accelerator(376 µs ± 5.14 µs per loop)\n",
    "    il faut signaler qu' il a ete constaté aussi que le temps de compilation est plus optimal cette fois avec numba accelerator. \n",
    "    une longue reflexion a ete declenché a ce sujet, le constat de cette defaillence de pyccel est que dans l'execution des etape de la simulation de l'equation de diffusion, il y a la presence de certaine etapes intermidiaires qui necessite une (re)declaration des variables dus à la presence de certaines resultats intermidaires en cache.\n"
   ]
  }
 ],
 "metadata": {
  "hide_input": false,
  "kernelspec": {
   "display_name": "Python 3 (ipykernel)",
   "language": "python",
   "name": "python3"
  },
  "language_info": {
   "codemirror_mode": {
    "name": "ipython",
    "version": 3
   },
   "file_extension": ".py",
   "mimetype": "text/x-python",
   "name": "python",
   "nbconvert_exporter": "python",
   "pygments_lexer": "ipython3",
   "version": "3.9.7"
  }
 },
 "nbformat": 4,
 "nbformat_minor": 2
}
